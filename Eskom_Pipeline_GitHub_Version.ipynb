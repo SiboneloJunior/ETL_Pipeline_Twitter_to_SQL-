{
 "cells": [
  {
   "cell_type": "markdown",
   "metadata": {
    "colab_type": "text",
    "id": "t6z7ncXirnv7"
   },
   "source": [
    "# Building an ETL Pipeline\n",
    "\n",
    "This Pipeline consists of the following functions\n",
    "\n",
    "1. A function to connect to twitter and scrapes \"Eskom_SA\" tweets.\n",
    "<br>\n",
    "<br>\n",
    "2. A function that Cleans/Processes the tweets from the scraped tweets which will create a dataframe with two new columns comprising of the 'Municipalities Involved' and 'Hashtags' <br>\n",
    "<br>\n",
    "3. A function which connects to your SQL database and uploads the tweets into the table you store the tweets in the database."
   ]
  },
  {
   "cell_type": "code",
   "execution_count": 11,
   "metadata": {
    "colab": {},
    "colab_type": "code",
    "id": "jtYowqI_RiBL"
   },
   "outputs": [],
   "source": [
    "### Importing Packages\n",
    "\n",
    "# General:\n",
    "\n",
    "import tweepy           \n",
    "import pandas as pd     \n",
    "import numpy as np      \n",
    "import json\n",
    "import re\n",
    "from IPython.display import display\n",
    "import pyodbc\n"
   ]
  },
  {
   "cell_type": "markdown",
   "metadata": {
    "colab_type": "text",
    "id": "EykRIHe8ykYS"
   },
   "source": [
    "# Consumer and Access details\n",
    "\n",
    "Enter your Consumer and Access details you should have recieved when applying for a Twitter API. "
   ]
  },
  {
   "cell_type": "code",
   "execution_count": 2,
   "metadata": {
    "colab": {},
    "colab_type": "code",
    "id": "lquylmvOnFvt"
   },
   "outputs": [],
   "source": [
    "# Consumer:\n",
    "CONSUMER_KEY    = 'ENTER CONSUMER KEY'\n",
    "CONSUMER_SECRET = 'ENTER CONSUMER SECRET'\n",
    "\n",
    "# Access:\n",
    "ACCESS_TOKEN  = 'ENTER ACCESS TOKEN'\n",
    "ACCESS_SECRET = 'ENTER ACCESS SECRET'"
   ]
  },
  {
   "cell_type": "code",
   "execution_count": 3,
   "metadata": {
    "colab": {},
    "colab_type": "code",
    "id": "01RMZH30RiBU"
   },
   "outputs": [],
   "source": [
    "# API's setup:\n",
    "def twitter_setup():\n",
    "    \"\"\"\n",
    "    Utility function to setup the Twitter's API\n",
    "    with access and consumer keys from Twitter.\n",
    "    \"\"\"\n",
    "\n",
    "    # Authentication and access using keys:\n",
    "    auth = tweepy.OAuthHandler(CONSUMER_KEY, CONSUMER_SECRET)\n",
    "    auth.set_access_token(ACCESS_TOKEN, ACCESS_SECRET)\n",
    "\n",
    "    # Return API with authentication:\n",
    "    api = tweepy.API(auth, timeout=1000)\n",
    "    return api"
   ]
  },
  {
   "cell_type": "markdown",
   "metadata": {
    "colab_type": "text",
    "id": "I5nbkmC9vk8F"
   },
   "source": [
    "# Function 1:\n",
    "\n",
    "Function Specifications:\n",
    "- The function returns a dataframe with the scraped tweets with just the \"_Tweets_\" and \"_Date_\". \n",
    "- Will take in the ```consumer key,  consumer secret code, access token``` and ```access secret code```.\n",
    "\n",
    "NOTE:\n",
    "The dataframe should have the same column names as those in your SQL Database table where you store the tweets."
   ]
  },
  {
   "cell_type": "code",
   "execution_count": 8,
   "metadata": {
    "colab": {},
    "colab_type": "code",
    "id": "eF6Vnzl3RiBX"
   },
   "outputs": [],
   "source": [
    "def twitter_df(CONSUMER_KEY, CONSUMER_SECRET, ACCESS_TOKEN, ACCESS_SECRET ):\n",
    "    \"\"\"\n",
    "    Extracts the latest 200 tweets along with corresponding datetime from\n",
    "    the Eskom_SA handle excluding the retweets.\n",
    "    \n",
    "    Args :\n",
    "        CONSUMER_KEY (str)\n",
    "        CONSUMER_SECRET(str)\n",
    "        ACCESS_TOKEN(str)\n",
    "        ACCESS_SECRET(str)\n",
    "        \n",
    "    Returns :\n",
    "        data : Pandas Dataframe , columns 'Tweets' & 'Date'\n",
    "        \n",
    "    \"\"\"\n",
    "    extractor = twitter_setup()\n",
    "    tweets = extractor.user_timeline(screen_name=\"Eskom_SA\", \n",
    "                                 count=200,\n",
    "                                 include_rts=False)\n",
    "    data = pd.DataFrame(data=np.column_stack([[tweet.text for tweet in tweets],\n",
    "                                          [(tweet.created_at) for tweet in tweets]]),\n",
    "                                          columns=['Tweets','Date'])\n",
    "    return data\n",
    "    return None"
   ]
  },
  {
   "cell_type": "markdown",
   "metadata": {
    "colab_type": "text",
    "id": "mkUQUNKzpUN2"
   },
   "source": [
    "# Function 2: Removing hashtags and the municipalities\n",
    "\n",
    "Function Specifications:\n",
    "- The function should take in the pandas dataframe you created in Function 1 and return a new pandas dataframe. "
   ]
  },
  {
   "cell_type": "code",
   "execution_count": 9,
   "metadata": {
    "colab": {},
    "colab_type": "code",
    "id": "UOuThS2kRiBf"
   },
   "outputs": [],
   "source": [
    "def extract_municipality_hashtags(df):\n",
    "    \"\"\"\n",
    "    Function takes the dataframe returned by twitter_df() and extracts the municipality\n",
    "    from each tweet by mapping the tweet column to the dictionary of all KEY municipalities\n",
    "    and also extracts the hashtags from the tweet. The municipalities & Hashtags are placed\n",
    "    on their individual columns\n",
    "    \n",
    "    Args :\n",
    "        df : Pandas Dataframe\n",
    "    \n",
    "    Returns :\n",
    "    \n",
    "        df : Pandas Dataframe with 'municipalities(str object) and hashtags(list of str)'\n",
    "    \n",
    "    \"\"\"\n",
    "    mun_dict = {'@CityofCTAlerts' : 'Cape Town',\n",
    "                '@CityPowerJhb' : 'Johannesburg',\n",
    "                '@eThekwiniM' : 'eThekwini' ,\n",
    "                '@EMMInfo' : 'Ekurhuleni',\n",
    "                '@centlecutility' : 'Mangaung',\n",
    "                '@NMBmunicipality' : 'Nelson Mandela Bay',\n",
    "                '@CityTshwane' : 'Tshwane'\n",
    "                '@VhembeDM : Vhembe'\n",
    "                '@EhlanzeniM : Ehlanzeni'\n",
    "                '@NCProvGov : NorthernCape_Gov'\n",
    "                '@NorthWestZA : NorthWest'}    \n",
    "    handles = list(mun_dict.keys())    \n",
    "    df['municipality'] = df['Tweets'].str.extract('({})'.format('|'.join(handles)), expand=False).fillna(np.nan)\n",
    "    df['municipality'] = df['municipality'].map(mun_dict)    \n",
    "    df['hashtags'] = df['Tweets'].str.findall(r'#.*?(?=\\s|$)')\n",
    "    df['hashtags'] = df['hashtags'].apply(lambda x: np.nan if len(x)==0 else [x.lower() for x in x])\n",
    "    df['hashtags'] = (df['hashtags']).astype(str)\n",
    "    return df    \n",
    "    return None"
   ]
  },
  {
   "cell_type": "code",
   "execution_count": 13,
   "metadata": {},
   "outputs": [],
   "source": [
    "df_fresh_tweets = extract_municipality_hashtags(twitter_df(CONSUMER_KEY, CONSUMER_SECRET, ACCESS_TOKEN, ACCESS_SECRET ))"
   ]
  },
  {
   "cell_type": "markdown",
   "metadata": {
    "colab_type": "text",
    "id": "L9bXQ_k8xOjV"
   },
   "source": [
    "# Function 3: Updating SQL Database with pyODBC\n",
    "\n",
    "Function Specifications:\n",
    "- The function takes in a pandas dataframe created in Function 2. \n",
    "- Connect to your SQL database.\n",
    "- Update the table you store your tweets in.\n",
    "- Not return any output."
   ]
  },
  {
   "cell_type": "code",
   "execution_count": 14,
   "metadata": {},
   "outputs": [],
   "source": [
    "###---Setting up connection---###\n",
    "###---Extracting old table from SQL---###\n",
    "from sqlalchemy import create_engine\n",
    "import urllib\n",
    "conn = pyodbc.connect(driver='{SQL Server}',\n",
    "                          host='ENTER_HOST',                        ### Displayed when you log into SQL  \n",
    "                          database='Eskom_Database',                ### Make sure name matches the one used in SQL\n",
    "                          trusted_connection='tcon',\n",
    "                          user='sa')\n",
    "twitter_table = pd.read_sql_query('select * from dbo.twitter_table',conn)"
   ]
  },
  {
   "cell_type": "code",
   "execution_count": 15,
   "metadata": {
    "colab": {},
    "colab_type": "code",
    "id": "yqdiXb5JRiBo"
   },
   "outputs": [],
   "source": [
    "def pyodbc_twitter(connection, df, twitter_table):\n",
    "    \"\"\"\n",
    "    Function takes the dataframe returned by extract_municipality_hashtags() , Update\n",
    "    the old twitter table in SQL using the pyodbc connection\n",
    "    \n",
    "    Args :\n",
    "        Connection : A connection between python and SQL Server using pyodbc module\n",
    "        df : Pandas Dataframe , Latests tweets and dates along with municipalities and hashtags columns\n",
    "        twitter_table : Pandas Dataframe , Old table available in the SQL database yet to be updated\n",
    "    \n",
    "    Returns :\n",
    "         None\n",
    "    \n",
    "    \"\"\"\n",
    "    params = urllib.parse.quote_plus(\"DRIVER={SQL Server};SERVER=ENTER_HOST;DATABASE=Eskom_Database;UID=sa;trusted_connection='tcon'\")     ### Enter your host on 'Server' in string format                            \n",
    "    engine = create_engine(\"mssql+pyodbc:///?odbc_connect=%s\" % params)\n",
    "    df = pd.merge(df_fresh_tweets,twitter_table, how='outer', left_on=['Tweets','Date','municipality','hashtags'], right_on = ['Tweets','Date','municipality','hashtags'])\n",
    "    df.to_sql('twitter_table', con=engine , if_exists = 'replace' , index = False)    \n",
    "    return None \n",
    "pyodbc_twitter(conn, df_fresh_tweets, twitter_table)"
   ]
  },
  {
   "cell_type": "code",
   "execution_count": null,
   "metadata": {},
   "outputs": [],
   "source": []
  }
 ],
 "metadata": {
  "colab": {
   "name": "pipeline_student_version.ipynb",
   "provenance": []
  },
  "kernelspec": {
   "display_name": "Python 3",
   "language": "python",
   "name": "python3"
  },
  "language_info": {
   "codemirror_mode": {
    "name": "ipython",
    "version": 3
   },
   "file_extension": ".py",
   "mimetype": "text/x-python",
   "name": "python",
   "nbconvert_exporter": "python",
   "pygments_lexer": "ipython3",
   "version": "3.7.4"
  }
 },
 "nbformat": 4,
 "nbformat_minor": 1
}
